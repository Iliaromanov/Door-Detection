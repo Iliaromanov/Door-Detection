{
 "metadata": {
  "language_info": {
   "codemirror_mode": {
    "name": "ipython",
    "version": 3
   },
   "file_extension": ".py",
   "mimetype": "text/x-python",
   "name": "python",
   "nbconvert_exporter": "python",
   "pygments_lexer": "ipython3",
   "version": "3.7.9-final"
  },
  "orig_nbformat": 2,
  "kernelspec": {
   "name": "python3",
   "display_name": "Python 3.7.9 64-bit",
   "metadata": {
    "interpreter": {
     "hash": "d213bab112ee6222d3c7ae0b13bad4fa123e684288282252b000db52d3893657"
    }
   }
  }
 },
 "nbformat": 4,
 "nbformat_minor": 2,
 "cells": [
  {
   "source": [
    "## Data Analysis/Visualization"
   ],
   "cell_type": "markdown",
   "metadata": {}
  },
  {
   "cell_type": "code",
   "execution_count": 29,
   "metadata": {},
   "outputs": [],
   "source": [
    "import pandas as pd\n",
    "import numpy as np\n",
    "import seaborn as sns"
   ]
  },
  {
   "cell_type": "code",
   "execution_count": 30,
   "metadata": {},
   "outputs": [],
   "source": [
    "df = pd.read_csv('test_data.csv')"
   ]
  },
  {
   "cell_type": "code",
   "execution_count": 31,
   "metadata": {},
   "outputs": [
    {
     "output_type": "execute_result",
     "data": {
      "text/plain": [
       "   Type  Distance0  Distance1  Distance2  Distance3  Distance4  Distance5  \\\n",
       "0     1        147        277        173        233        268        226   \n",
       "1     1         96        265        184        175        107        116   \n",
       "2     1        244         12        204        299          9        173   \n",
       "3     0         42        208        182        121        227         17   \n",
       "4     0         45        271        144         36        292        119   \n",
       "\n",
       "   Distance6  Distance7  Distance8  ...  Distance80  Distance81  Distance82  \\\n",
       "0        231        103        118  ...         264         197         185   \n",
       "1         49         97        144  ...         278         298         236   \n",
       "2        140         20        133  ...         271         239          92   \n",
       "3        115         38         26  ...         284         115         138   \n",
       "4        266         56         66  ...         278          18          92   \n",
       "\n",
       "   Distance83  Distance84  Distance85  Distance86  Distance87  Distance88  \\\n",
       "0         254         243         234         205         299         201   \n",
       "1          70          53         270         125         272         235   \n",
       "2         198         136         189         131         164         140   \n",
       "3         102         206          69         258         156          74   \n",
       "4          10          47         192         162         200         115   \n",
       "\n",
       "   Distance89  \n",
       "0         264  \n",
       "1         224  \n",
       "2          80  \n",
       "3         200  \n",
       "4         106  \n",
       "\n",
       "[5 rows x 91 columns]"
      ],
      "text/html": "<div>\n<style scoped>\n    .dataframe tbody tr th:only-of-type {\n        vertical-align: middle;\n    }\n\n    .dataframe tbody tr th {\n        vertical-align: top;\n    }\n\n    .dataframe thead th {\n        text-align: right;\n    }\n</style>\n<table border=\"1\" class=\"dataframe\">\n  <thead>\n    <tr style=\"text-align: right;\">\n      <th></th>\n      <th>Type</th>\n      <th>Distance0</th>\n      <th>Distance1</th>\n      <th>Distance2</th>\n      <th>Distance3</th>\n      <th>Distance4</th>\n      <th>Distance5</th>\n      <th>Distance6</th>\n      <th>Distance7</th>\n      <th>Distance8</th>\n      <th>...</th>\n      <th>Distance80</th>\n      <th>Distance81</th>\n      <th>Distance82</th>\n      <th>Distance83</th>\n      <th>Distance84</th>\n      <th>Distance85</th>\n      <th>Distance86</th>\n      <th>Distance87</th>\n      <th>Distance88</th>\n      <th>Distance89</th>\n    </tr>\n  </thead>\n  <tbody>\n    <tr>\n      <th>0</th>\n      <td>1</td>\n      <td>147</td>\n      <td>277</td>\n      <td>173</td>\n      <td>233</td>\n      <td>268</td>\n      <td>226</td>\n      <td>231</td>\n      <td>103</td>\n      <td>118</td>\n      <td>...</td>\n      <td>264</td>\n      <td>197</td>\n      <td>185</td>\n      <td>254</td>\n      <td>243</td>\n      <td>234</td>\n      <td>205</td>\n      <td>299</td>\n      <td>201</td>\n      <td>264</td>\n    </tr>\n    <tr>\n      <th>1</th>\n      <td>1</td>\n      <td>96</td>\n      <td>265</td>\n      <td>184</td>\n      <td>175</td>\n      <td>107</td>\n      <td>116</td>\n      <td>49</td>\n      <td>97</td>\n      <td>144</td>\n      <td>...</td>\n      <td>278</td>\n      <td>298</td>\n      <td>236</td>\n      <td>70</td>\n      <td>53</td>\n      <td>270</td>\n      <td>125</td>\n      <td>272</td>\n      <td>235</td>\n      <td>224</td>\n    </tr>\n    <tr>\n      <th>2</th>\n      <td>1</td>\n      <td>244</td>\n      <td>12</td>\n      <td>204</td>\n      <td>299</td>\n      <td>9</td>\n      <td>173</td>\n      <td>140</td>\n      <td>20</td>\n      <td>133</td>\n      <td>...</td>\n      <td>271</td>\n      <td>239</td>\n      <td>92</td>\n      <td>198</td>\n      <td>136</td>\n      <td>189</td>\n      <td>131</td>\n      <td>164</td>\n      <td>140</td>\n      <td>80</td>\n    </tr>\n    <tr>\n      <th>3</th>\n      <td>0</td>\n      <td>42</td>\n      <td>208</td>\n      <td>182</td>\n      <td>121</td>\n      <td>227</td>\n      <td>17</td>\n      <td>115</td>\n      <td>38</td>\n      <td>26</td>\n      <td>...</td>\n      <td>284</td>\n      <td>115</td>\n      <td>138</td>\n      <td>102</td>\n      <td>206</td>\n      <td>69</td>\n      <td>258</td>\n      <td>156</td>\n      <td>74</td>\n      <td>200</td>\n    </tr>\n    <tr>\n      <th>4</th>\n      <td>0</td>\n      <td>45</td>\n      <td>271</td>\n      <td>144</td>\n      <td>36</td>\n      <td>292</td>\n      <td>119</td>\n      <td>266</td>\n      <td>56</td>\n      <td>66</td>\n      <td>...</td>\n      <td>278</td>\n      <td>18</td>\n      <td>92</td>\n      <td>10</td>\n      <td>47</td>\n      <td>192</td>\n      <td>162</td>\n      <td>200</td>\n      <td>115</td>\n      <td>106</td>\n    </tr>\n  </tbody>\n</table>\n<p>5 rows × 91 columns</p>\n</div>"
     },
     "metadata": {},
     "execution_count": 31
    }
   ],
   "source": [
    "# Adding angle column\n",
    "#df.insert(1, 'Angle', range(0, len(df)))\n",
    "\n",
    "df.head()"
   ]
  },
  {
   "cell_type": "code",
   "execution_count": 32,
   "metadata": {},
   "outputs": [
    {
     "output_type": "execute_result",
     "data": {
      "text/plain": [
       "            Type  Distance0   Distance1   Distance2   Distance3   Distance4  \\\n",
       "count  10.000000   10.00000   10.000000   10.000000   10.000000   10.000000   \n",
       "mean    0.600000  145.80000  197.800000  162.200000  147.700000  156.700000   \n",
       "std     0.516398   92.62565   92.310828   53.115806  108.709654  101.915052   \n",
       "min     0.000000   42.00000   12.000000   43.000000    3.000000    9.000000   \n",
       "25%     0.000000   59.75000  143.500000  147.750000   54.750000   79.500000   \n",
       "50%     1.000000  121.50000  214.500000  177.500000  148.000000  148.500000   \n",
       "75%     1.000000  240.00000  269.500000  199.000000  228.500000  248.750000   \n",
       "max     1.000000  267.00000  296.000000  220.000000  299.000000  292.000000   \n",
       "\n",
       "        Distance5   Distance6   Distance7   Distance8  ...  Distance80  \\\n",
       "count   10.000000   10.000000   10.000000   10.000000  ...    10.00000   \n",
       "mean   154.600000  169.900000  110.100000  111.600000  ...   174.20000   \n",
       "std     91.874552   92.927032   66.356696   75.608935  ...   118.26693   \n",
       "min      1.000000   29.000000   20.000000   26.000000  ...    15.00000   \n",
       "25%    116.750000  112.000000   62.250000   62.250000  ...    52.25000   \n",
       "50%    186.500000  184.500000  100.000000  116.500000  ...   236.00000   \n",
       "75%    201.500000  235.500000  165.000000  130.250000  ...   276.25000   \n",
       "max    292.000000  292.000000  218.000000  292.000000  ...   284.00000   \n",
       "\n",
       "       Distance81  Distance82  Distance83  Distance84  Distance85  Distance86  \\\n",
       "count    10.00000   10.000000   10.000000   10.000000   10.000000   10.000000   \n",
       "mean    167.30000  168.900000  111.800000  137.000000  144.300000  196.100000   \n",
       "std      93.43215   77.585007   89.319402   78.528127   82.483736   66.998259   \n",
       "min       9.00000   44.000000   10.000000   47.000000   19.000000  125.000000   \n",
       "25%     130.50000  103.500000   49.750000   60.750000   76.500000  138.250000   \n",
       "50%     195.50000  168.500000   77.500000  131.000000  161.000000  183.500000   \n",
       "75%     220.00000  233.750000  174.000000  201.250000  191.250000  244.750000   \n",
       "max     298.00000  272.000000  254.000000  243.000000  270.000000  299.000000   \n",
       "\n",
       "       Distance87  Distance88  Distance89  \n",
       "count    10.00000   10.000000   10.000000  \n",
       "mean    165.80000  122.800000  165.000000  \n",
       "std      89.54676   72.680121   76.213151  \n",
       "min      13.00000   12.000000   54.000000  \n",
       "25%     120.25000   77.000000  104.500000  \n",
       "50%     160.00000  106.000000  176.000000  \n",
       "75%     228.50000  185.750000  218.000000  \n",
       "max     299.00000  235.000000  266.000000  \n",
       "\n",
       "[8 rows x 91 columns]"
      ],
      "text/html": "<div>\n<style scoped>\n    .dataframe tbody tr th:only-of-type {\n        vertical-align: middle;\n    }\n\n    .dataframe tbody tr th {\n        vertical-align: top;\n    }\n\n    .dataframe thead th {\n        text-align: right;\n    }\n</style>\n<table border=\"1\" class=\"dataframe\">\n  <thead>\n    <tr style=\"text-align: right;\">\n      <th></th>\n      <th>Type</th>\n      <th>Distance0</th>\n      <th>Distance1</th>\n      <th>Distance2</th>\n      <th>Distance3</th>\n      <th>Distance4</th>\n      <th>Distance5</th>\n      <th>Distance6</th>\n      <th>Distance7</th>\n      <th>Distance8</th>\n      <th>...</th>\n      <th>Distance80</th>\n      <th>Distance81</th>\n      <th>Distance82</th>\n      <th>Distance83</th>\n      <th>Distance84</th>\n      <th>Distance85</th>\n      <th>Distance86</th>\n      <th>Distance87</th>\n      <th>Distance88</th>\n      <th>Distance89</th>\n    </tr>\n  </thead>\n  <tbody>\n    <tr>\n      <th>count</th>\n      <td>10.000000</td>\n      <td>10.00000</td>\n      <td>10.000000</td>\n      <td>10.000000</td>\n      <td>10.000000</td>\n      <td>10.000000</td>\n      <td>10.000000</td>\n      <td>10.000000</td>\n      <td>10.000000</td>\n      <td>10.000000</td>\n      <td>...</td>\n      <td>10.00000</td>\n      <td>10.00000</td>\n      <td>10.000000</td>\n      <td>10.000000</td>\n      <td>10.000000</td>\n      <td>10.000000</td>\n      <td>10.000000</td>\n      <td>10.00000</td>\n      <td>10.000000</td>\n      <td>10.000000</td>\n    </tr>\n    <tr>\n      <th>mean</th>\n      <td>0.600000</td>\n      <td>145.80000</td>\n      <td>197.800000</td>\n      <td>162.200000</td>\n      <td>147.700000</td>\n      <td>156.700000</td>\n      <td>154.600000</td>\n      <td>169.900000</td>\n      <td>110.100000</td>\n      <td>111.600000</td>\n      <td>...</td>\n      <td>174.20000</td>\n      <td>167.30000</td>\n      <td>168.900000</td>\n      <td>111.800000</td>\n      <td>137.000000</td>\n      <td>144.300000</td>\n      <td>196.100000</td>\n      <td>165.80000</td>\n      <td>122.800000</td>\n      <td>165.000000</td>\n    </tr>\n    <tr>\n      <th>std</th>\n      <td>0.516398</td>\n      <td>92.62565</td>\n      <td>92.310828</td>\n      <td>53.115806</td>\n      <td>108.709654</td>\n      <td>101.915052</td>\n      <td>91.874552</td>\n      <td>92.927032</td>\n      <td>66.356696</td>\n      <td>75.608935</td>\n      <td>...</td>\n      <td>118.26693</td>\n      <td>93.43215</td>\n      <td>77.585007</td>\n      <td>89.319402</td>\n      <td>78.528127</td>\n      <td>82.483736</td>\n      <td>66.998259</td>\n      <td>89.54676</td>\n      <td>72.680121</td>\n      <td>76.213151</td>\n    </tr>\n    <tr>\n      <th>min</th>\n      <td>0.000000</td>\n      <td>42.00000</td>\n      <td>12.000000</td>\n      <td>43.000000</td>\n      <td>3.000000</td>\n      <td>9.000000</td>\n      <td>1.000000</td>\n      <td>29.000000</td>\n      <td>20.000000</td>\n      <td>26.000000</td>\n      <td>...</td>\n      <td>15.00000</td>\n      <td>9.00000</td>\n      <td>44.000000</td>\n      <td>10.000000</td>\n      <td>47.000000</td>\n      <td>19.000000</td>\n      <td>125.000000</td>\n      <td>13.00000</td>\n      <td>12.000000</td>\n      <td>54.000000</td>\n    </tr>\n    <tr>\n      <th>25%</th>\n      <td>0.000000</td>\n      <td>59.75000</td>\n      <td>143.500000</td>\n      <td>147.750000</td>\n      <td>54.750000</td>\n      <td>79.500000</td>\n      <td>116.750000</td>\n      <td>112.000000</td>\n      <td>62.250000</td>\n      <td>62.250000</td>\n      <td>...</td>\n      <td>52.25000</td>\n      <td>130.50000</td>\n      <td>103.500000</td>\n      <td>49.750000</td>\n      <td>60.750000</td>\n      <td>76.500000</td>\n      <td>138.250000</td>\n      <td>120.25000</td>\n      <td>77.000000</td>\n      <td>104.500000</td>\n    </tr>\n    <tr>\n      <th>50%</th>\n      <td>1.000000</td>\n      <td>121.50000</td>\n      <td>214.500000</td>\n      <td>177.500000</td>\n      <td>148.000000</td>\n      <td>148.500000</td>\n      <td>186.500000</td>\n      <td>184.500000</td>\n      <td>100.000000</td>\n      <td>116.500000</td>\n      <td>...</td>\n      <td>236.00000</td>\n      <td>195.50000</td>\n      <td>168.500000</td>\n      <td>77.500000</td>\n      <td>131.000000</td>\n      <td>161.000000</td>\n      <td>183.500000</td>\n      <td>160.00000</td>\n      <td>106.000000</td>\n      <td>176.000000</td>\n    </tr>\n    <tr>\n      <th>75%</th>\n      <td>1.000000</td>\n      <td>240.00000</td>\n      <td>269.500000</td>\n      <td>199.000000</td>\n      <td>228.500000</td>\n      <td>248.750000</td>\n      <td>201.500000</td>\n      <td>235.500000</td>\n      <td>165.000000</td>\n      <td>130.250000</td>\n      <td>...</td>\n      <td>276.25000</td>\n      <td>220.00000</td>\n      <td>233.750000</td>\n      <td>174.000000</td>\n      <td>201.250000</td>\n      <td>191.250000</td>\n      <td>244.750000</td>\n      <td>228.50000</td>\n      <td>185.750000</td>\n      <td>218.000000</td>\n    </tr>\n    <tr>\n      <th>max</th>\n      <td>1.000000</td>\n      <td>267.00000</td>\n      <td>296.000000</td>\n      <td>220.000000</td>\n      <td>299.000000</td>\n      <td>292.000000</td>\n      <td>292.000000</td>\n      <td>292.000000</td>\n      <td>218.000000</td>\n      <td>292.000000</td>\n      <td>...</td>\n      <td>284.00000</td>\n      <td>298.00000</td>\n      <td>272.000000</td>\n      <td>254.000000</td>\n      <td>243.000000</td>\n      <td>270.000000</td>\n      <td>299.000000</td>\n      <td>299.00000</td>\n      <td>235.000000</td>\n      <td>266.000000</td>\n    </tr>\n  </tbody>\n</table>\n<p>8 rows × 91 columns</p>\n</div>"
     },
     "metadata": {},
     "execution_count": 32
    }
   ],
   "source": [
    "df.describe()"
   ]
  },
  {
   "source": [
    "## Model"
   ],
   "cell_type": "markdown",
   "metadata": {}
  },
  {
   "cell_type": "code",
   "execution_count": 26,
   "metadata": {},
   "outputs": [],
   "source": [
    "# Splitting data into training and testing data\n",
    "from sklearn.model_selection import train_test_split\n",
    "\n",
    "columns = df.columns\n",
    "\n",
    "X = df[columns[1:]]\n",
    "y = df['Type']\n",
    "\n",
    "X_train, X_test, y_train, y_test = train_test_split(X, y, test_size=0.3, random_state=1)"
   ]
  },
  {
   "cell_type": "code",
   "execution_count": 34,
   "metadata": {},
   "outputs": [
    {
     "output_type": "execute_result",
     "data": {
      "text/plain": [
       "   Distance0  Distance1  Distance2  Distance3  Distance4  Distance5  \\\n",
       "0        147        277        173        233        268        226   \n",
       "1         96        265        184        175        107        116   \n",
       "2        244         12        204        299          9        173   \n",
       "3         42        208        182        121        227         17   \n",
       "4         45        271        144         36        292        119   \n",
       "\n",
       "   Distance6  Distance7  Distance8  Distance9  ...  Distance80  Distance81  \\\n",
       "0        231        103        118         45  ...         264         197   \n",
       "1         49         97        144        276  ...         278         298   \n",
       "2        140         20        133        198  ...         271         239   \n",
       "3        115         38         26        216  ...         284         115   \n",
       "4        266         56         66        183  ...         278          18   \n",
       "\n",
       "   Distance82  Distance83  Distance84  Distance85  Distance86  Distance87  \\\n",
       "0         185         254         243         234         205         299   \n",
       "1         236          70          53         270         125         272   \n",
       "2          92         198         136         189         131         164   \n",
       "3         138         102         206          69         258         156   \n",
       "4          92          10          47         192         162         200   \n",
       "\n",
       "   Distance88  Distance89  \n",
       "0         201         264  \n",
       "1         235         224  \n",
       "2         140          80  \n",
       "3          74         200  \n",
       "4         115         106  \n",
       "\n",
       "[5 rows x 90 columns]"
      ],
      "text/html": "<div>\n<style scoped>\n    .dataframe tbody tr th:only-of-type {\n        vertical-align: middle;\n    }\n\n    .dataframe tbody tr th {\n        vertical-align: top;\n    }\n\n    .dataframe thead th {\n        text-align: right;\n    }\n</style>\n<table border=\"1\" class=\"dataframe\">\n  <thead>\n    <tr style=\"text-align: right;\">\n      <th></th>\n      <th>Distance0</th>\n      <th>Distance1</th>\n      <th>Distance2</th>\n      <th>Distance3</th>\n      <th>Distance4</th>\n      <th>Distance5</th>\n      <th>Distance6</th>\n      <th>Distance7</th>\n      <th>Distance8</th>\n      <th>Distance9</th>\n      <th>...</th>\n      <th>Distance80</th>\n      <th>Distance81</th>\n      <th>Distance82</th>\n      <th>Distance83</th>\n      <th>Distance84</th>\n      <th>Distance85</th>\n      <th>Distance86</th>\n      <th>Distance87</th>\n      <th>Distance88</th>\n      <th>Distance89</th>\n    </tr>\n  </thead>\n  <tbody>\n    <tr>\n      <th>0</th>\n      <td>147</td>\n      <td>277</td>\n      <td>173</td>\n      <td>233</td>\n      <td>268</td>\n      <td>226</td>\n      <td>231</td>\n      <td>103</td>\n      <td>118</td>\n      <td>45</td>\n      <td>...</td>\n      <td>264</td>\n      <td>197</td>\n      <td>185</td>\n      <td>254</td>\n      <td>243</td>\n      <td>234</td>\n      <td>205</td>\n      <td>299</td>\n      <td>201</td>\n      <td>264</td>\n    </tr>\n    <tr>\n      <th>1</th>\n      <td>96</td>\n      <td>265</td>\n      <td>184</td>\n      <td>175</td>\n      <td>107</td>\n      <td>116</td>\n      <td>49</td>\n      <td>97</td>\n      <td>144</td>\n      <td>276</td>\n      <td>...</td>\n      <td>278</td>\n      <td>298</td>\n      <td>236</td>\n      <td>70</td>\n      <td>53</td>\n      <td>270</td>\n      <td>125</td>\n      <td>272</td>\n      <td>235</td>\n      <td>224</td>\n    </tr>\n    <tr>\n      <th>2</th>\n      <td>244</td>\n      <td>12</td>\n      <td>204</td>\n      <td>299</td>\n      <td>9</td>\n      <td>173</td>\n      <td>140</td>\n      <td>20</td>\n      <td>133</td>\n      <td>198</td>\n      <td>...</td>\n      <td>271</td>\n      <td>239</td>\n      <td>92</td>\n      <td>198</td>\n      <td>136</td>\n      <td>189</td>\n      <td>131</td>\n      <td>164</td>\n      <td>140</td>\n      <td>80</td>\n    </tr>\n    <tr>\n      <th>3</th>\n      <td>42</td>\n      <td>208</td>\n      <td>182</td>\n      <td>121</td>\n      <td>227</td>\n      <td>17</td>\n      <td>115</td>\n      <td>38</td>\n      <td>26</td>\n      <td>216</td>\n      <td>...</td>\n      <td>284</td>\n      <td>115</td>\n      <td>138</td>\n      <td>102</td>\n      <td>206</td>\n      <td>69</td>\n      <td>258</td>\n      <td>156</td>\n      <td>74</td>\n      <td>200</td>\n    </tr>\n    <tr>\n      <th>4</th>\n      <td>45</td>\n      <td>271</td>\n      <td>144</td>\n      <td>36</td>\n      <td>292</td>\n      <td>119</td>\n      <td>266</td>\n      <td>56</td>\n      <td>66</td>\n      <td>183</td>\n      <td>...</td>\n      <td>278</td>\n      <td>18</td>\n      <td>92</td>\n      <td>10</td>\n      <td>47</td>\n      <td>192</td>\n      <td>162</td>\n      <td>200</td>\n      <td>115</td>\n      <td>106</td>\n    </tr>\n  </tbody>\n</table>\n<p>5 rows × 90 columns</p>\n</div>"
     },
     "metadata": {},
     "execution_count": 34
    }
   ],
   "source": [
    "X.head()"
   ]
  },
  {
   "cell_type": "code",
   "execution_count": 35,
   "metadata": {},
   "outputs": [
    {
     "output_type": "execute_result",
     "data": {
      "text/plain": [
       "0    1\n",
       "1    1\n",
       "2    1\n",
       "3    0\n",
       "4    0\n",
       "Name: Type, dtype: int64"
      ]
     },
     "metadata": {},
     "execution_count": 35
    }
   ],
   "source": [
    "y.head()"
   ]
  },
  {
   "cell_type": "code",
   "execution_count": null,
   "metadata": {},
   "outputs": [],
   "source": [
    "# Normalizing the data\n",
    "from sklearn.preprocessing import MinMaxScaler\n",
    "\n"
   ]
  },
  {
   "cell_type": "code",
   "execution_count": null,
   "metadata": {},
   "outputs": [],
   "source": [
    "from tensorflow.keras import datasets, layers, models\n",
    "\n",
    "model = models.Sequential()"
   ]
  }
 ]
}