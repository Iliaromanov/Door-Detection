{
 "metadata": {
  "language_info": {
   "codemirror_mode": {
    "name": "ipython",
    "version": 3
   },
   "file_extension": ".py",
   "mimetype": "text/x-python",
   "name": "python",
   "nbconvert_exporter": "python",
   "pygments_lexer": "ipython3",
   "version": "3.7.9-final"
  },
  "orig_nbformat": 2,
  "kernelspec": {
   "name": "python3",
   "display_name": "Python 3.7.9 64-bit",
   "metadata": {
    "interpreter": {
     "hash": "d213bab112ee6222d3c7ae0b13bad4fa123e684288282252b000db52d3893657"
    }
   }
  }
 },
 "nbformat": 4,
 "nbformat_minor": 2,
 "cells": [
  {
   "cell_type": "code",
   "execution_count": 1,
   "metadata": {},
   "outputs": [],
   "source": [
    "import pandas as pd\n",
    "import numpy as np\n",
    "import matplotlib.pyplot as plt\n",
    "import seaborn as sns\n",
    "%matplotlib inline"
   ]
  },
  {
   "cell_type": "code",
   "execution_count": 2,
   "metadata": {},
   "outputs": [],
   "source": [
    "df = pd.read_csv('dataset_289_samples_final_3am.csv')"
   ]
  },
  {
   "cell_type": "code",
   "execution_count": 3,
   "metadata": {},
   "outputs": [
    {
     "output_type": "execute_result",
     "data": {
      "text/plain": [
       "   Type  Distance0  Distance1  Distance2  Distance3  Distance4  Distance5  \\\n",
       "0     0        178        114        179         97         67        130   \n",
       "1     0        179        176        178         33         24         96   \n",
       "2     1         86         86         86         83         68         86   \n",
       "3     1         99        100         99         80         98         93   \n",
       "4     1         70         70         69         64         68         58   \n",
       "\n",
       "   Distance6  Distance7  Distance8  ...  Distance80  Distance81  Distance82  \\\n",
       "0         73        132         93  ...          92          89          90   \n",
       "1         62        103         75  ...          90          84          90   \n",
       "2         60         85         86  ...          57          76          76   \n",
       "3         64         94         98  ...          87          68         117   \n",
       "4          7         70         69  ...         103         132          74   \n",
       "\n",
       "   Distance83  Distance84  Distance85  Distance86  Distance87  Distance88  \\\n",
       "0          57          54          48          68          89          89   \n",
       "1          89          63          51          88          90          85   \n",
       "2          72          76           7          53          64          76   \n",
       "3          97         120         119          73          80         119   \n",
       "4          72          65          58          72          55          71   \n",
       "\n",
       "   Distance89  \n",
       "0        61.0  \n",
       "1        74.0  \n",
       "2        77.0  \n",
       "3        62.0  \n",
       "4        69.0  \n",
       "\n",
       "[5 rows x 91 columns]"
      ],
      "text/html": "<div>\n<style scoped>\n    .dataframe tbody tr th:only-of-type {\n        vertical-align: middle;\n    }\n\n    .dataframe tbody tr th {\n        vertical-align: top;\n    }\n\n    .dataframe thead th {\n        text-align: right;\n    }\n</style>\n<table border=\"1\" class=\"dataframe\">\n  <thead>\n    <tr style=\"text-align: right;\">\n      <th></th>\n      <th>Type</th>\n      <th>Distance0</th>\n      <th>Distance1</th>\n      <th>Distance2</th>\n      <th>Distance3</th>\n      <th>Distance4</th>\n      <th>Distance5</th>\n      <th>Distance6</th>\n      <th>Distance7</th>\n      <th>Distance8</th>\n      <th>...</th>\n      <th>Distance80</th>\n      <th>Distance81</th>\n      <th>Distance82</th>\n      <th>Distance83</th>\n      <th>Distance84</th>\n      <th>Distance85</th>\n      <th>Distance86</th>\n      <th>Distance87</th>\n      <th>Distance88</th>\n      <th>Distance89</th>\n    </tr>\n  </thead>\n  <tbody>\n    <tr>\n      <th>0</th>\n      <td>0</td>\n      <td>178</td>\n      <td>114</td>\n      <td>179</td>\n      <td>97</td>\n      <td>67</td>\n      <td>130</td>\n      <td>73</td>\n      <td>132</td>\n      <td>93</td>\n      <td>...</td>\n      <td>92</td>\n      <td>89</td>\n      <td>90</td>\n      <td>57</td>\n      <td>54</td>\n      <td>48</td>\n      <td>68</td>\n      <td>89</td>\n      <td>89</td>\n      <td>61.0</td>\n    </tr>\n    <tr>\n      <th>1</th>\n      <td>0</td>\n      <td>179</td>\n      <td>176</td>\n      <td>178</td>\n      <td>33</td>\n      <td>24</td>\n      <td>96</td>\n      <td>62</td>\n      <td>103</td>\n      <td>75</td>\n      <td>...</td>\n      <td>90</td>\n      <td>84</td>\n      <td>90</td>\n      <td>89</td>\n      <td>63</td>\n      <td>51</td>\n      <td>88</td>\n      <td>90</td>\n      <td>85</td>\n      <td>74.0</td>\n    </tr>\n    <tr>\n      <th>2</th>\n      <td>1</td>\n      <td>86</td>\n      <td>86</td>\n      <td>86</td>\n      <td>83</td>\n      <td>68</td>\n      <td>86</td>\n      <td>60</td>\n      <td>85</td>\n      <td>86</td>\n      <td>...</td>\n      <td>57</td>\n      <td>76</td>\n      <td>76</td>\n      <td>72</td>\n      <td>76</td>\n      <td>7</td>\n      <td>53</td>\n      <td>64</td>\n      <td>76</td>\n      <td>77.0</td>\n    </tr>\n    <tr>\n      <th>3</th>\n      <td>1</td>\n      <td>99</td>\n      <td>100</td>\n      <td>99</td>\n      <td>80</td>\n      <td>98</td>\n      <td>93</td>\n      <td>64</td>\n      <td>94</td>\n      <td>98</td>\n      <td>...</td>\n      <td>87</td>\n      <td>68</td>\n      <td>117</td>\n      <td>97</td>\n      <td>120</td>\n      <td>119</td>\n      <td>73</td>\n      <td>80</td>\n      <td>119</td>\n      <td>62.0</td>\n    </tr>\n    <tr>\n      <th>4</th>\n      <td>1</td>\n      <td>70</td>\n      <td>70</td>\n      <td>69</td>\n      <td>64</td>\n      <td>68</td>\n      <td>58</td>\n      <td>7</td>\n      <td>70</td>\n      <td>69</td>\n      <td>...</td>\n      <td>103</td>\n      <td>132</td>\n      <td>74</td>\n      <td>72</td>\n      <td>65</td>\n      <td>58</td>\n      <td>72</td>\n      <td>55</td>\n      <td>71</td>\n      <td>69.0</td>\n    </tr>\n  </tbody>\n</table>\n<p>5 rows × 91 columns</p>\n</div>"
     },
     "metadata": {},
     "execution_count": 3
    }
   ],
   "source": [
    "df.head()"
   ]
  },
  {
   "cell_type": "code",
   "execution_count": 4,
   "metadata": {},
   "outputs": [
    {
     "output_type": "stream",
     "name": "stdout",
     "text": [
      "<class 'pandas.core.frame.DataFrame'>\nRangeIndex: 288 entries, 0 to 287\nData columns (total 91 columns):\n #   Column      Non-Null Count  Dtype  \n---  ------      --------------  -----  \n 0   Type        288 non-null    int64  \n 1   Distance0   288 non-null    int64  \n 2   Distance1   288 non-null    int64  \n 3   Distance2   288 non-null    int64  \n 4   Distance3   288 non-null    int64  \n 5   Distance4   288 non-null    int64  \n 6   Distance5   288 non-null    int64  \n 7   Distance6   288 non-null    int64  \n 8   Distance7   288 non-null    int64  \n 9   Distance8   288 non-null    int64  \n 10  Distance9   288 non-null    int64  \n 11  Distance10  288 non-null    int64  \n 12  Distance11  288 non-null    int64  \n 13  Distance12  288 non-null    int64  \n 14  Distance13  288 non-null    int64  \n 15  Distance14  288 non-null    int64  \n 16  Distance15  288 non-null    int64  \n 17  Distance16  288 non-null    int64  \n 18  Distance17  288 non-null    int64  \n 19  Distance18  288 non-null    int64  \n 20  Distance19  288 non-null    int64  \n 21  Distance20  288 non-null    int64  \n 22  Distance21  288 non-null    int64  \n 23  Distance22  288 non-null    int64  \n 24  Distance23  288 non-null    int64  \n 25  Distance24  288 non-null    int64  \n 26  Distance25  288 non-null    int64  \n 27  Distance26  288 non-null    int64  \n 28  Distance27  288 non-null    int64  \n 29  Distance28  288 non-null    int64  \n 30  Distance29  288 non-null    int64  \n 31  Distance30  288 non-null    int64  \n 32  Distance31  288 non-null    int64  \n 33  Distance32  288 non-null    int64  \n 34  Distance33  288 non-null    int64  \n 35  Distance34  288 non-null    int64  \n 36  Distance35  288 non-null    int64  \n 37  Distance36  288 non-null    int64  \n 38  Distance37  288 non-null    int64  \n 39  Distance38  288 non-null    int64  \n 40  Distance39  288 non-null    int64  \n 41  Distance40  288 non-null    int64  \n 42  Distance41  288 non-null    int64  \n 43  Distance42  288 non-null    int64  \n 44  Distance43  288 non-null    int64  \n 45  Distance44  288 non-null    int64  \n 46  Distance45  288 non-null    int64  \n 47  Distance46  288 non-null    int64  \n 48  Distance47  288 non-null    int64  \n 49  Distance48  288 non-null    int64  \n 50  Distance49  288 non-null    int64  \n 51  Distance50  288 non-null    int64  \n 52  Distance51  288 non-null    int64  \n 53  Distance52  288 non-null    int64  \n 54  Distance53  288 non-null    int64  \n 55  Distance54  288 non-null    int64  \n 56  Distance55  288 non-null    int64  \n 57  Distance56  288 non-null    int64  \n 58  Distance57  288 non-null    int64  \n 59  Distance58  288 non-null    int64  \n 60  Distance59  288 non-null    int64  \n 61  Distance60  288 non-null    int64  \n 62  Distance61  288 non-null    int64  \n 63  Distance62  288 non-null    int64  \n 64  Distance63  288 non-null    int64  \n 65  Distance64  288 non-null    int64  \n 66  Distance65  288 non-null    int64  \n 67  Distance66  288 non-null    int64  \n 68  Distance67  288 non-null    int64  \n 69  Distance68  288 non-null    int64  \n 70  Distance69  288 non-null    int64  \n 71  Distance70  288 non-null    int64  \n 72  Distance71  288 non-null    int64  \n 73  Distance72  288 non-null    int64  \n 74  Distance73  288 non-null    int64  \n 75  Distance74  288 non-null    int64  \n 76  Distance75  288 non-null    int64  \n 77  Distance76  288 non-null    int64  \n 78  Distance77  288 non-null    int64  \n 79  Distance78  288 non-null    int64  \n 80  Distance79  288 non-null    int64  \n 81  Distance80  288 non-null    int64  \n 82  Distance81  288 non-null    int64  \n 83  Distance82  288 non-null    int64  \n 84  Distance83  288 non-null    int64  \n 85  Distance84  288 non-null    int64  \n 86  Distance85  288 non-null    int64  \n 87  Distance86  288 non-null    int64  \n 88  Distance87  288 non-null    int64  \n 89  Distance88  288 non-null    int64  \n 90  Distance89  287 non-null    float64\ndtypes: float64(1), int64(90)\nmemory usage: 204.9 KB\n"
     ]
    }
   ],
   "source": [
    "df.info()"
   ]
  },
  {
   "cell_type": "code",
   "execution_count": 5,
   "metadata": {},
   "outputs": [
    {
     "output_type": "execute_result",
     "data": {
      "text/plain": [
       "             Type   Distance0   Distance1   Distance2   Distance3   Distance4  \\\n",
       "count  288.000000  288.000000  288.000000  288.000000  288.000000  288.000000   \n",
       "mean     0.524306  109.055556   99.204861   95.829861   48.965278   48.302083   \n",
       "std      0.500278   78.840975   66.444625   61.873330   36.720797   40.261632   \n",
       "min      0.000000    0.000000    0.000000    0.000000    0.000000    0.000000   \n",
       "25%      0.000000   60.000000   58.500000   59.000000    7.750000    7.000000   \n",
       "50%      1.000000   93.000000   90.000000   83.500000   54.000000   51.000000   \n",
       "75%      1.000000  137.000000  127.250000  121.250000   82.000000   75.250000   \n",
       "max      1.000000  357.000000  357.000000  335.000000  161.000000  182.000000   \n",
       "\n",
       "        Distance5   Distance6   Distance7   Distance8  ...  Distance80  \\\n",
       "count  288.000000  288.000000  288.000000  288.000000  ...  288.000000   \n",
       "mean    46.833333   39.135417   41.434028   65.809028  ...   39.538194   \n",
       "std     40.052666   32.076331   45.154120   47.830220  ...   44.957029   \n",
       "min      0.000000    0.000000    0.000000    0.000000  ...    0.000000   \n",
       "25%      7.000000    7.000000    7.000000    9.000000  ...    7.000000   \n",
       "50%     53.500000   44.000000   13.000000   66.500000  ...    8.000000   \n",
       "75%     75.000000   62.000000   63.250000   96.250000  ...   70.250000   \n",
       "max    168.000000  143.000000  296.000000  292.000000  ...  217.000000   \n",
       "\n",
       "       Distance81  Distance82  Distance83  Distance84  Distance85  Distance86  \\\n",
       "count  288.000000  288.000000  288.000000  288.000000  288.000000  288.000000   \n",
       "mean    29.284722   35.100694   42.006944   47.836806   39.031250   29.625000   \n",
       "std     32.836765   39.742029   42.463839   45.761361   56.471346   31.740317   \n",
       "min      0.000000    0.000000    0.000000    0.000000    0.000000    0.000000   \n",
       "25%      7.000000    7.000000    8.000000    8.000000    7.000000    7.000000   \n",
       "50%      8.000000    8.000000    9.000000   21.000000    8.000000    8.000000   \n",
       "75%     51.000000   64.250000   76.000000   84.000000   68.000000   55.000000   \n",
       "max    133.000000  243.000000  213.000000  197.000000  777.000000  175.000000   \n",
       "\n",
       "       Distance87  Distance88  Distance89  \n",
       "count  288.000000  288.000000  287.000000  \n",
       "mean    27.548611   47.718750   24.303136  \n",
       "std     29.549894   47.941174   28.374779  \n",
       "min      0.000000    0.000000    0.000000  \n",
       "25%      7.000000    7.000000    7.000000  \n",
       "50%      8.000000    9.000000    8.000000  \n",
       "75%     52.250000   80.500000   47.500000  \n",
       "max    137.000000  251.000000  146.000000  \n",
       "\n",
       "[8 rows x 91 columns]"
      ],
      "text/html": "<div>\n<style scoped>\n    .dataframe tbody tr th:only-of-type {\n        vertical-align: middle;\n    }\n\n    .dataframe tbody tr th {\n        vertical-align: top;\n    }\n\n    .dataframe thead th {\n        text-align: right;\n    }\n</style>\n<table border=\"1\" class=\"dataframe\">\n  <thead>\n    <tr style=\"text-align: right;\">\n      <th></th>\n      <th>Type</th>\n      <th>Distance0</th>\n      <th>Distance1</th>\n      <th>Distance2</th>\n      <th>Distance3</th>\n      <th>Distance4</th>\n      <th>Distance5</th>\n      <th>Distance6</th>\n      <th>Distance7</th>\n      <th>Distance8</th>\n      <th>...</th>\n      <th>Distance80</th>\n      <th>Distance81</th>\n      <th>Distance82</th>\n      <th>Distance83</th>\n      <th>Distance84</th>\n      <th>Distance85</th>\n      <th>Distance86</th>\n      <th>Distance87</th>\n      <th>Distance88</th>\n      <th>Distance89</th>\n    </tr>\n  </thead>\n  <tbody>\n    <tr>\n      <th>count</th>\n      <td>288.000000</td>\n      <td>288.000000</td>\n      <td>288.000000</td>\n      <td>288.000000</td>\n      <td>288.000000</td>\n      <td>288.000000</td>\n      <td>288.000000</td>\n      <td>288.000000</td>\n      <td>288.000000</td>\n      <td>288.000000</td>\n      <td>...</td>\n      <td>288.000000</td>\n      <td>288.000000</td>\n      <td>288.000000</td>\n      <td>288.000000</td>\n      <td>288.000000</td>\n      <td>288.000000</td>\n      <td>288.000000</td>\n      <td>288.000000</td>\n      <td>288.000000</td>\n      <td>287.000000</td>\n    </tr>\n    <tr>\n      <th>mean</th>\n      <td>0.524306</td>\n      <td>109.055556</td>\n      <td>99.204861</td>\n      <td>95.829861</td>\n      <td>48.965278</td>\n      <td>48.302083</td>\n      <td>46.833333</td>\n      <td>39.135417</td>\n      <td>41.434028</td>\n      <td>65.809028</td>\n      <td>...</td>\n      <td>39.538194</td>\n      <td>29.284722</td>\n      <td>35.100694</td>\n      <td>42.006944</td>\n      <td>47.836806</td>\n      <td>39.031250</td>\n      <td>29.625000</td>\n      <td>27.548611</td>\n      <td>47.718750</td>\n      <td>24.303136</td>\n    </tr>\n    <tr>\n      <th>std</th>\n      <td>0.500278</td>\n      <td>78.840975</td>\n      <td>66.444625</td>\n      <td>61.873330</td>\n      <td>36.720797</td>\n      <td>40.261632</td>\n      <td>40.052666</td>\n      <td>32.076331</td>\n      <td>45.154120</td>\n      <td>47.830220</td>\n      <td>...</td>\n      <td>44.957029</td>\n      <td>32.836765</td>\n      <td>39.742029</td>\n      <td>42.463839</td>\n      <td>45.761361</td>\n      <td>56.471346</td>\n      <td>31.740317</td>\n      <td>29.549894</td>\n      <td>47.941174</td>\n      <td>28.374779</td>\n    </tr>\n    <tr>\n      <th>min</th>\n      <td>0.000000</td>\n      <td>0.000000</td>\n      <td>0.000000</td>\n      <td>0.000000</td>\n      <td>0.000000</td>\n      <td>0.000000</td>\n      <td>0.000000</td>\n      <td>0.000000</td>\n      <td>0.000000</td>\n      <td>0.000000</td>\n      <td>...</td>\n      <td>0.000000</td>\n      <td>0.000000</td>\n      <td>0.000000</td>\n      <td>0.000000</td>\n      <td>0.000000</td>\n      <td>0.000000</td>\n      <td>0.000000</td>\n      <td>0.000000</td>\n      <td>0.000000</td>\n      <td>0.000000</td>\n    </tr>\n    <tr>\n      <th>25%</th>\n      <td>0.000000</td>\n      <td>60.000000</td>\n      <td>58.500000</td>\n      <td>59.000000</td>\n      <td>7.750000</td>\n      <td>7.000000</td>\n      <td>7.000000</td>\n      <td>7.000000</td>\n      <td>7.000000</td>\n      <td>9.000000</td>\n      <td>...</td>\n      <td>7.000000</td>\n      <td>7.000000</td>\n      <td>7.000000</td>\n      <td>8.000000</td>\n      <td>8.000000</td>\n      <td>7.000000</td>\n      <td>7.000000</td>\n      <td>7.000000</td>\n      <td>7.000000</td>\n      <td>7.000000</td>\n    </tr>\n    <tr>\n      <th>50%</th>\n      <td>1.000000</td>\n      <td>93.000000</td>\n      <td>90.000000</td>\n      <td>83.500000</td>\n      <td>54.000000</td>\n      <td>51.000000</td>\n      <td>53.500000</td>\n      <td>44.000000</td>\n      <td>13.000000</td>\n      <td>66.500000</td>\n      <td>...</td>\n      <td>8.000000</td>\n      <td>8.000000</td>\n      <td>8.000000</td>\n      <td>9.000000</td>\n      <td>21.000000</td>\n      <td>8.000000</td>\n      <td>8.000000</td>\n      <td>8.000000</td>\n      <td>9.000000</td>\n      <td>8.000000</td>\n    </tr>\n    <tr>\n      <th>75%</th>\n      <td>1.000000</td>\n      <td>137.000000</td>\n      <td>127.250000</td>\n      <td>121.250000</td>\n      <td>82.000000</td>\n      <td>75.250000</td>\n      <td>75.000000</td>\n      <td>62.000000</td>\n      <td>63.250000</td>\n      <td>96.250000</td>\n      <td>...</td>\n      <td>70.250000</td>\n      <td>51.000000</td>\n      <td>64.250000</td>\n      <td>76.000000</td>\n      <td>84.000000</td>\n      <td>68.000000</td>\n      <td>55.000000</td>\n      <td>52.250000</td>\n      <td>80.500000</td>\n      <td>47.500000</td>\n    </tr>\n    <tr>\n      <th>max</th>\n      <td>1.000000</td>\n      <td>357.000000</td>\n      <td>357.000000</td>\n      <td>335.000000</td>\n      <td>161.000000</td>\n      <td>182.000000</td>\n      <td>168.000000</td>\n      <td>143.000000</td>\n      <td>296.000000</td>\n      <td>292.000000</td>\n      <td>...</td>\n      <td>217.000000</td>\n      <td>133.000000</td>\n      <td>243.000000</td>\n      <td>213.000000</td>\n      <td>197.000000</td>\n      <td>777.000000</td>\n      <td>175.000000</td>\n      <td>137.000000</td>\n      <td>251.000000</td>\n      <td>146.000000</td>\n    </tr>\n  </tbody>\n</table>\n<p>8 rows × 91 columns</p>\n</div>"
     },
     "metadata": {},
     "execution_count": 5
    }
   ],
   "source": [
    "df.describe()"
   ]
  },
  {
   "cell_type": "code",
   "execution_count": null,
   "metadata": {},
   "outputs": [],
   "source": []
  }
 ]
}