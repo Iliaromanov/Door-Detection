{
 "metadata": {
  "language_info": {
   "codemirror_mode": {
    "name": "ipython",
    "version": 3
   },
   "file_extension": ".py",
   "mimetype": "text/x-python",
   "name": "python",
   "nbconvert_exporter": "python",
   "pygments_lexer": "ipython3",
   "version": "3.7.9-final"
  },
  "orig_nbformat": 2,
  "kernelspec": {
   "name": "python3",
   "display_name": "Python 3.7.9 64-bit",
   "metadata": {
    "interpreter": {
     "hash": "d213bab112ee6222d3c7ae0b13bad4fa123e684288282252b000db52d3893657"
    }
   }
  }
 },
 "nbformat": 4,
 "nbformat_minor": 2,
 "cells": [
  {
   "source": [
    "## Data Visualization"
   ],
   "cell_type": "markdown",
   "metadata": {}
  },
  {
   "source": [
    "This file is data visualization for only two sample scans and the process demonstrated in this file will be added to a main model file when we have the full dataset at our disposal."
   ],
   "cell_type": "markdown",
   "metadata": {}
  },
  {
   "cell_type": "code",
   "execution_count": 1,
   "metadata": {},
   "outputs": [],
   "source": [
    "import pandas as pd\n",
    "import numpy as np\n",
    "import matplotlib.pyplot as plt\n",
    "import seaborn as sns\n",
    "%matplotlib inline"
   ]
  },
  {
   "cell_type": "code",
   "execution_count": 2,
   "metadata": {},
   "outputs": [],
   "source": [
    "df = pd.read_csv('1_positive_1_negative_test.csv')"
   ]
  },
  {
   "cell_type": "code",
   "execution_count": 3,
   "metadata": {},
   "outputs": [
    {
     "output_type": "execute_result",
     "data": {
      "text/plain": [
       "   Type  Distance0  Distance1  Distance2  Distance3  Distance4  Distance5  \\\n",
       "0     1        101          7         82          7        155        156   \n",
       "1     0        153          8         65         99        237        169   \n",
       "\n",
       "   Distance6  Distance7  Distance8  ...  Distance80  Distance81  Distance82  \\\n",
       "0        120        107         78  ...          85         107         107   \n",
       "1        128        126         82  ...         102         113          89   \n",
       "\n",
       "   Distance83  Distance84  Distance85  Distance86  Distance87  Distance88  \\\n",
       "0         113          95          98          65         100          88   \n",
       "1          82          79         123         144          91          86   \n",
       "\n",
       "   Distance89  \n",
       "0          60  \n",
       "1          88  \n",
       "\n",
       "[2 rows x 91 columns]"
      ],
      "text/html": "<div>\n<style scoped>\n    .dataframe tbody tr th:only-of-type {\n        vertical-align: middle;\n    }\n\n    .dataframe tbody tr th {\n        vertical-align: top;\n    }\n\n    .dataframe thead th {\n        text-align: right;\n    }\n</style>\n<table border=\"1\" class=\"dataframe\">\n  <thead>\n    <tr style=\"text-align: right;\">\n      <th></th>\n      <th>Type</th>\n      <th>Distance0</th>\n      <th>Distance1</th>\n      <th>Distance2</th>\n      <th>Distance3</th>\n      <th>Distance4</th>\n      <th>Distance5</th>\n      <th>Distance6</th>\n      <th>Distance7</th>\n      <th>Distance8</th>\n      <th>...</th>\n      <th>Distance80</th>\n      <th>Distance81</th>\n      <th>Distance82</th>\n      <th>Distance83</th>\n      <th>Distance84</th>\n      <th>Distance85</th>\n      <th>Distance86</th>\n      <th>Distance87</th>\n      <th>Distance88</th>\n      <th>Distance89</th>\n    </tr>\n  </thead>\n  <tbody>\n    <tr>\n      <th>0</th>\n      <td>1</td>\n      <td>101</td>\n      <td>7</td>\n      <td>82</td>\n      <td>7</td>\n      <td>155</td>\n      <td>156</td>\n      <td>120</td>\n      <td>107</td>\n      <td>78</td>\n      <td>...</td>\n      <td>85</td>\n      <td>107</td>\n      <td>107</td>\n      <td>113</td>\n      <td>95</td>\n      <td>98</td>\n      <td>65</td>\n      <td>100</td>\n      <td>88</td>\n      <td>60</td>\n    </tr>\n    <tr>\n      <th>1</th>\n      <td>0</td>\n      <td>153</td>\n      <td>8</td>\n      <td>65</td>\n      <td>99</td>\n      <td>237</td>\n      <td>169</td>\n      <td>128</td>\n      <td>126</td>\n      <td>82</td>\n      <td>...</td>\n      <td>102</td>\n      <td>113</td>\n      <td>89</td>\n      <td>82</td>\n      <td>79</td>\n      <td>123</td>\n      <td>144</td>\n      <td>91</td>\n      <td>86</td>\n      <td>88</td>\n    </tr>\n  </tbody>\n</table>\n<p>2 rows × 91 columns</p>\n</div>"
     },
     "metadata": {},
     "execution_count": 3
    }
   ],
   "source": [
    "df.head()"
   ]
  },
  {
   "cell_type": "code",
   "execution_count": null,
   "metadata": {},
   "outputs": [],
   "source": []
  }
 ]
}